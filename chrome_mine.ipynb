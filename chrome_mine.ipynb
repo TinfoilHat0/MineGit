{
 "cells": [
  {
   "cell_type": "code",
   "execution_count": 1,
   "metadata": {
    "collapsed": false
   },
   "outputs": [],
   "source": [
    "import git\n",
    "import numpy as np\n",
    "from collections import defaultdict\n",
    "import matplotlib.pyplot as plt"
   ]
  },
  {
   "cell_type": "code",
   "execution_count": 2,
   "metadata": {
    "collapsed": false
   },
   "outputs": [],
   "source": [
    "#1. Connect to repo and get files&developers\n",
    "repo = git.Repo() \n",
    "devs, files = defaultdict(int), defaultdict(list)\n",
    "for commit in repo.iter_commits():\n",
    "    authorName = commit.author.name\n",
    "    commitedFiles = commit.stats.files.keys()\n",
    "    for f in commitedFiles:\n",
    "        files[f].append(authorName)\n",
    "    devs[authorName] += 1"
   ]
  },
  {
   "cell_type": "code",
   "execution_count": 3,
   "metadata": {
    "collapsed": false
   },
   "outputs": [],
   "source": [
    "#2. Identify top devs and plot commit blocks\n",
    "def plotDict(d, plotName):\n",
    "    plt.bar(range(len(d)), d.values(), align='center')\n",
    "    plt.xticks(range(len(d)), d.keys())\n",
    "    plt.savefig(plotName)\n",
    "    plt.close()\n",
    "#2.a Plot commit distribution\n",
    "plotDict(devs, 'all-commit')\n",
    "#2.b Identify top devs&plot top dev distribution\n",
    "eightyCommit = sum(devs.itervalues())*0.8 # %80 of total commits\n",
    "sortedDevs, topDevs = sorted(devs.items(), key=lambda x:x[1], reverse = True), defaultdict(int)\n",
    "for dev in sortedDevs:\n",
    "    if dev[1] < eightyCommit:\n",
    "        topDevs[dev[0]] = dev[1]\n",
    "        eightyCommit -= dev[1]  \n",
    "plotDict(topDevs, 'top-commit')        "
   ]
  },
  {
   "cell_type": "code",
   "execution_count": 35,
   "metadata": {
    "collapsed": false
   },
   "outputs": [],
   "source": [
    "#3. Build and save the commit matrix\n",
    "commitMatrix = np.zeros((len(files), len(devs)), dtype=np.int)\n",
    "commitM = defaultdict(dict)\n",
    "i, j = 0, 0\n",
    "for f in files:\n",
    "    for dev in devs:\n",
    "        if dev in files[f]:\n",
    "            commitMatrix[i][j] = 1\n",
    "            commitM[f][dev] = 1\n",
    "        j += 1\n",
    "    j = 0     \n",
    "    i += 1 \n",
    "np.savetxt('commitMatrix.adj', commitMatrix, fmt='%i', delimiter=' ')    "
   ]
  },
  {
   "cell_type": "code",
   "execution_count": 34,
   "metadata": {
    "collapsed": true
   },
   "outputs": [],
   "source": [
    "#4.Build and save top devs commit matrix\n",
    "topCommitM = defaultdict(dict)\n",
    "for dev in topDevs:\n",
    "    for f in commitM:\n",
    "        for dev2 in commitM[f]:\n",
    "            if dev2 in topDevs and dev in commitM[f] and dev != dev2:\n",
    "                topCommitM[dev][dev2] = 1\n",
    "topCommitMatrix = np.zeros((len(topDevs), len(topDevs)), dtype=np.int)\n",
    "i, j = 0, 0\n",
    "for dev in topDevs:\n",
    "    for dev2 in topDevs:\n",
    "        if topCommitM.get(dev).get(dev2) is not None:\n",
    "            topCommitMatrix[i][j] = 1\n",
    "        else:\n",
    "            topCommitMatrix[i][j] = 0\n",
    "        j += 1\n",
    "    j = 0\n",
    "    i += 1\n",
    "np.savetxt('topCommitMatrix.adj', topCommitMatrix, fmt='%i', delimiter=' ')           "
   ]
  },
  {
   "cell_type": "code",
   "execution_count": null,
   "metadata": {
    "collapsed": true
   },
   "outputs": [],
   "source": []
  }
 ],
 "metadata": {
  "kernelspec": {
   "display_name": "Python 2",
   "language": "python",
   "name": "python2"
  },
  "language_info": {
   "codemirror_mode": {
    "name": "ipython",
    "version": 2
   },
   "file_extension": ".py",
   "mimetype": "text/x-python",
   "name": "python",
   "nbconvert_exporter": "python",
   "pygments_lexer": "ipython2",
   "version": "2.7.6"
  }
 },
 "nbformat": 4,
 "nbformat_minor": 0
}
